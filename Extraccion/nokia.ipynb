{
 "cells": [
  {
   "cell_type": "code",
   "execution_count": 1,
   "metadata": {},
   "outputs": [],
   "source": [
    "from bs4 import BeautifulSoup # manipular html estatico\n",
    "from selenium import webdriver # Captar el driver de chrome\n",
    "from selenium.common.exceptions import WebDriverException \n",
    "from webdriver_manager.chrome import ChromeDriverManager # Capto el driver de chrome \n",
    "from datetime import date\n",
    "import time"
   ]
  },
  {
   "cell_type": "code",
   "execution_count": 72,
   "metadata": {},
   "outputs": [],
   "source": [
    "import pandas as pd"
   ]
  },
  {
   "cell_type": "code",
   "execution_count": 2,
   "metadata": {},
   "outputs": [
    {
     "name": "stderr",
     "output_type": "stream",
     "text": [
      "C:\\Users\\tacas\\AppData\\Local\\Temp\\ipykernel_6888\\1503906442.py:1: DeprecationWarning: executable_path has been deprecated, please pass in a Service object\n",
      "  driver = webdriver.Chrome(ChromeDriverManager().install())\n"
     ]
    }
   ],
   "source": [
    "driver = webdriver.Chrome(ChromeDriverManager().install())"
   ]
  },
  {
   "cell_type": "code",
   "execution_count": 3,
   "metadata": {},
   "outputs": [],
   "source": [
    "url = 'https://www.ebay.com'\n",
    "search = \"nikia 3310\".replace(\" \",\"+\")"
   ]
  },
  {
   "cell_type": "code",
   "execution_count": 4,
   "metadata": {},
   "outputs": [],
   "source": [
    "driver.get(url+\"/sch/i.html?_from=R40&_trksid=p2380057.m570.l1311&_nkw=\"+search+\"&_sacat=0\")"
   ]
  },
  {
   "cell_type": "code",
   "execution_count": 5,
   "metadata": {},
   "outputs": [],
   "source": [
    "page = BeautifulSoup(driver.page_source,\"html.parser\")"
   ]
  },
  {
   "cell_type": "code",
   "execution_count": 17,
   "metadata": {},
   "outputs": [],
   "source": [
    "contenido = page.find_all(\"div\",{\"class\":\"s-item__info clearfix\"})[1:]"
   ]
  },
  {
   "cell_type": "code",
   "execution_count": 75,
   "metadata": {},
   "outputs": [],
   "source": [
    "list_title = []\n",
    "list_subtitle = []\n",
    "list_price = []\n",
    "list_typeSeller = []\n",
    "list_embarked = []\n",
    "list_devol = []"
   ]
  },
  {
   "cell_type": "code",
   "execution_count": 81,
   "metadata": {},
   "outputs": [],
   "source": [
    "for i in range(0,10):\n",
    "    for elem in contenido:\n",
    "        # Extraccion de data\n",
    "        title = elem.find(\"div\",{\"class\":\"s-item__title\"}).contents[0]\n",
    "        subtitle = elem.find(\"div\",{\"class\":\"s-item__subtitle\"}).contents[0]\n",
    "        description = elem.find(\"div\",{\"class\":\"s-item__details clearfix\"})\n",
    "        price = description.find(\"span\",{\"class\":\"s-item__price\"})\n",
    "        typeSeller = description.find(\"span\",{\"class\":\"s-item__etrs-text\"})\n",
    "        embarked = description.find(\"span\",{\"class\":\"s-item__shipping s-item__logisticsCost\"})\n",
    "        devol = description.find(\"span\",{\"class\":\"s-item__free-returns s-item__freeReturnsNoFee\"})\n",
    "        # Validacion\n",
    "        if title:\n",
    "            #print(title.getText())\n",
    "            list_title.append(title.getText())\n",
    "        else:\n",
    "            #print(\"No validado\")\n",
    "            list_title.append(\"No validado\")\n",
    "        if subtitle:\n",
    "            list_subtitle.append(subtitle.getText())\n",
    "            #print(subtitle.getText())\n",
    "        else:\n",
    "            list_subtitle.append(\"No validado\")\n",
    "            #print(\"No validado\")\n",
    "        if price:\n",
    "            list_price.append(price.text)\n",
    "            #print(price.text)\n",
    "        else:\n",
    "            list_price.append(\"No validdo\")\n",
    "            #print(\"No validdo\")\n",
    "        if typeSeller:\n",
    "            list_typeSeller.append(typeSeller.text)\n",
    "            #print(typeSeller.text) ## validar\n",
    "        else:\n",
    "            list_typeSeller.append(\"No validado\")\n",
    "            #print(\"No validado\")\n",
    "        if embarked:\n",
    "            list_embarked.append(embarked.text)\n",
    "            #print(embarked.text)\n",
    "        else:\n",
    "            list_embarked.append(\"No validado\")\n",
    "            #print(\"No validado\")\n",
    "        if devol:\n",
    "            list_devol.append(devol.text)\n",
    "            #print(devol.text)# validar\n",
    "        else:\n",
    "            list_devol.append(\"No validado\")\n",
    "            #print(\"No validado\")\n",
    "    next_btn = driver.find_element(\"css selector\",\".pagination__next\")\n",
    "    next_btn.click()\n",
    "    time.sleep(3)"
   ]
  },
  {
   "cell_type": "code",
   "execution_count": 82,
   "metadata": {},
   "outputs": [
    {
     "data": {
      "text/plain": [
       "(720, 720, 720, 720, 720, 720)"
      ]
     },
     "execution_count": 82,
     "metadata": {},
     "output_type": "execute_result"
    }
   ],
   "source": [
    "len(list_title), len(list_subtitle),len(list_price),len(list_typeSeller),len(list_embarked),len(list_devol)"
   ]
  },
  {
   "cell_type": "code",
   "execution_count": 92,
   "metadata": {},
   "outputs": [],
   "source": [
    "df = pd.DataFrame({\"Producto\":list_title,\"Calidad de Producto\":list_title,\"Precio\":list_price,\"Calidad de Vendedor\":list_typeSeller,\"Envio\":list_embarked,\"Devolucion\":list_devol})"
   ]
  },
  {
   "cell_type": "code",
   "execution_count": 94,
   "metadata": {},
   "outputs": [
    {
     "data": {
      "text/html": [
       "<div>\n",
       "<style scoped>\n",
       "    .dataframe tbody tr th:only-of-type {\n",
       "        vertical-align: middle;\n",
       "    }\n",
       "\n",
       "    .dataframe tbody tr th {\n",
       "        vertical-align: top;\n",
       "    }\n",
       "\n",
       "    .dataframe thead th {\n",
       "        text-align: right;\n",
       "    }\n",
       "</style>\n",
       "<table border=\"1\" class=\"dataframe\">\n",
       "  <thead>\n",
       "    <tr style=\"text-align: right;\">\n",
       "      <th></th>\n",
       "      <th>Producto</th>\n",
       "      <th>Calidad de Producto</th>\n",
       "      <th>Precio</th>\n",
       "      <th>Calidad de Vendedor</th>\n",
       "      <th>Envio</th>\n",
       "      <th>Devolucion</th>\n",
       "    </tr>\n",
       "  </thead>\n",
       "  <tbody>\n",
       "    <tr>\n",
       "      <th>0</th>\n",
       "      <td>Nokia 3310 Navy blue Unlocked 2G GSM 900/1800 ...</td>\n",
       "      <td>Nokia 3310 Navy blue Unlocked 2G GSM 900/1800 ...</td>\n",
       "      <td>S/. 110.68</td>\n",
       "      <td>Vendedor Excelente</td>\n",
       "      <td>Envío internacional gratis</td>\n",
       "      <td>Devoluciones gratis</td>\n",
       "    </tr>\n",
       "    <tr>\n",
       "      <th>1</th>\n",
       "      <td>⭐EXCELLENT⭐MINT NOKIA 3310 BLUE (UNLOCKED) MOB...</td>\n",
       "      <td>⭐EXCELLENT⭐MINT NOKIA 3310 BLUE (UNLOCKED) MOB...</td>\n",
       "      <td>S/. 75.82</td>\n",
       "      <td>No validado</td>\n",
       "      <td>+S/. 142.98 de envío estimado</td>\n",
       "      <td>No validado</td>\n",
       "    </tr>\n",
       "    <tr>\n",
       "      <th>2</th>\n",
       "      <td>Nokia 3310 Unlocked Mobile Phone GSM 900/1800 ...</td>\n",
       "      <td>Nokia 3310 Unlocked Mobile Phone GSM 900/1800 ...</td>\n",
       "      <td>S/. 77.63</td>\n",
       "      <td>Vendedor Excelente</td>\n",
       "      <td>+S/. 27.18 por el envío</td>\n",
       "      <td>Devoluciones gratis</td>\n",
       "    </tr>\n",
       "    <tr>\n",
       "      <th>3</th>\n",
       "      <td>Nokia 3310 Original Unlocked Classic Cell Phon...</td>\n",
       "      <td>Nokia 3310 Original Unlocked Classic Cell Phon...</td>\n",
       "      <td>S/. 66.37</td>\n",
       "      <td>Vendedor Excelente</td>\n",
       "      <td>+S/. 34.91 por el envío</td>\n",
       "      <td>No validado</td>\n",
       "    </tr>\n",
       "    <tr>\n",
       "      <th>4</th>\n",
       "      <td>NOKIA 3310 Unlocked Dual SIM Retro Classic Cel...</td>\n",
       "      <td>NOKIA 3310 Unlocked Dual SIM Retro Classic Cel...</td>\n",
       "      <td>S/. 111.52</td>\n",
       "      <td>No validado</td>\n",
       "      <td>+S/. 13.39 por el envío</td>\n",
       "      <td>No validado</td>\n",
       "    </tr>\n",
       "  </tbody>\n",
       "</table>\n",
       "</div>"
      ],
      "text/plain": [
       "                                            Producto  \\\n",
       "0  Nokia 3310 Navy blue Unlocked 2G GSM 900/1800 ...   \n",
       "1  ⭐EXCELLENT⭐MINT NOKIA 3310 BLUE (UNLOCKED) MOB...   \n",
       "2  Nokia 3310 Unlocked Mobile Phone GSM 900/1800 ...   \n",
       "3  Nokia 3310 Original Unlocked Classic Cell Phon...   \n",
       "4  NOKIA 3310 Unlocked Dual SIM Retro Classic Cel...   \n",
       "\n",
       "                                 Calidad de Producto      Precio  \\\n",
       "0  Nokia 3310 Navy blue Unlocked 2G GSM 900/1800 ...  S/. 110.68   \n",
       "1  ⭐EXCELLENT⭐MINT NOKIA 3310 BLUE (UNLOCKED) MOB...   S/. 75.82   \n",
       "2  Nokia 3310 Unlocked Mobile Phone GSM 900/1800 ...   S/. 77.63   \n",
       "3  Nokia 3310 Original Unlocked Classic Cell Phon...   S/. 66.37   \n",
       "4  NOKIA 3310 Unlocked Dual SIM Retro Classic Cel...  S/. 111.52   \n",
       "\n",
       "  Calidad de Vendedor                          Envio           Devolucion  \n",
       "0  Vendedor Excelente     Envío internacional gratis  Devoluciones gratis  \n",
       "1         No validado  +S/. 142.98 de envío estimado          No validado  \n",
       "2  Vendedor Excelente        +S/. 27.18 por el envío  Devoluciones gratis  \n",
       "3  Vendedor Excelente        +S/. 34.91 por el envío          No validado  \n",
       "4         No validado        +S/. 13.39 por el envío          No validado  "
      ]
     },
     "execution_count": 94,
     "metadata": {},
     "output_type": "execute_result"
    }
   ],
   "source": [
    "df.head()"
   ]
  },
  {
   "cell_type": "code",
   "execution_count": 95,
   "metadata": {},
   "outputs": [],
   "source": [
    "df.to_csv(\"nokia_.csv\",index=False)"
   ]
  }
 ],
 "metadata": {
  "kernelspec": {
   "display_name": "Python 3.9.12 ('base')",
   "language": "python",
   "name": "python3"
  },
  "language_info": {
   "codemirror_mode": {
    "name": "ipython",
    "version": 3
   },
   "file_extension": ".py",
   "mimetype": "text/x-python",
   "name": "python",
   "nbconvert_exporter": "python",
   "pygments_lexer": "ipython3",
   "version": "3.9.12"
  },
  "orig_nbformat": 4,
  "vscode": {
   "interpreter": {
    "hash": "c9f04e99f58ad3e8e527e86f3db95f6f41dccd7eee35f4fab2a97d655604e485"
   }
  }
 },
 "nbformat": 4,
 "nbformat_minor": 2
}
