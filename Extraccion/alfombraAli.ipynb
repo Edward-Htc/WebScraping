{
 "cells": [
  {
   "cell_type": "code",
   "execution_count": 1,
   "metadata": {},
   "outputs": [],
   "source": [
    "from bs4 import BeautifulSoup\n",
    "from selenium import webdriver\n",
    "from webdriver_manager.chrome import ChromeDriverManager\n",
    "import time\n",
    "import pandas as pd"
   ]
  },
  {
   "cell_type": "code",
   "execution_count": 2,
   "metadata": {},
   "outputs": [
    {
     "name": "stderr",
     "output_type": "stream",
     "text": [
      "C:\\Users\\tacas\\AppData\\Local\\Temp\\ipykernel_4336\\1503906442.py:1: DeprecationWarning: executable_path has been deprecated, please pass in a Service object\n",
      "  driver = webdriver.Chrome(ChromeDriverManager().install())\n"
     ]
    }
   ],
   "source": [
    "driver = webdriver.Chrome(ChromeDriverManager().install())"
   ]
  },
  {
   "cell_type": "code",
   "execution_count": 12,
   "metadata": {},
   "outputs": [],
   "source": [
    "url = \"https://es.aliexpress.com\"\n",
    "parametro = \"alfombra ordenador\".replace(\" \",\"+\")\n",
    "parametro_url = \"alfombra ordenador\".replace(\" \",\"-\")"
   ]
  },
  {
   "cell_type": "code",
   "execution_count": 13,
   "metadata": {},
   "outputs": [],
   "source": [
    "driver.get(url+\"/af/\"+parametro_url+\".html?d=y&origin=n&SearchText=\"+parametro+\"&catId=0&spm=a2g0o.productlist.1000002.0&initiative_id=AS_20220916181825\")"
   ]
  },
  {
   "cell_type": "code",
   "execution_count": 15,
   "metadata": {},
   "outputs": [],
   "source": [
    "soup = BeautifulSoup(driver.page_source,\"html.parser\")"
   ]
  },
  {
   "cell_type": "code",
   "execution_count": 16,
   "metadata": {},
   "outputs": [],
   "source": [
    "contenido = soup.find_all(\"div\",{\"class\":\"_3GR-w\"})"
   ]
  },
  {
   "cell_type": "code",
   "execution_count": 74,
   "metadata": {},
   "outputs": [],
   "source": [
    "lis_titulo = []\n",
    "lis_precio = []\n",
    "lis_cantidadVendidas_ = []\n",
    "lis_Valoracion = []\n",
    "lis_envio = []\n",
    "lis_precioAnterior = []"
   ]
  },
  {
   "cell_type": "code",
   "execution_count": 75,
   "metadata": {},
   "outputs": [],
   "source": [
    "for i in range(0,15):\n",
    "    for ele in contenido:\n",
    "        titulo = ele.find(\"h1\",{\"class\":\"_18_85\"})\n",
    "        precio = ele.find(\"div\",{\"class\":\"mGXnE _37W_B\"}).contents\n",
    "        cantidadVendidas_valoracion = ele.find(\"div\",{\"class\":\"ZzMrp\"}).contents\n",
    "        envio = ele.find(\"span\",{\"class\":\"_2jcMA\"})\n",
    "        precioAnterior = ele.find(\"div\",{\"class\":\"_11_8K\"}).contents\n",
    "        if titulo:\n",
    "            lis_titulo.append(titulo.text)\n",
    "        else:\n",
    "            lis_titulo.append(\"Sin dato\")\n",
    "        if precio:\n",
    "            lis_precio.append(precio[1].text+precio[2].text+precio[3].text)\n",
    "        else:\n",
    "            lis_precio.append(\"Sin dato\")\n",
    "        if cantidadVendidas_valoracion[0]:\n",
    "            lis_cantidadVendidas_.append(cantidadVendidas_valoracion[0].text)\n",
    "        else:\n",
    "            lis_cantidadVendidas_.append(\"Sin dato\")\n",
    "        if cantidadVendidas_valoracion[2]:\n",
    "            lis_Valoracion.append(cantidadVendidas_valoracion[2].text)\n",
    "        else:\n",
    "            lis_Valoracion.append(\"Sin dato\")\n",
    "        if envio:\n",
    "            lis_envio.append(envio.text)\n",
    "        else:\n",
    "            lis_envio.append(\"Sin dato\")\n",
    "        if precioAnterior != []:\n",
    "            lis_precioAnterior.append(precioAnterior[0].text)\n",
    "        else:\n",
    "            lis_precioAnterior.append(\"Sin dato\")\n",
    "    btn = driver.find_element(\"css selector\",\".next-btn\")\n",
    "    btn.click()\n",
    "    time.sleep(3)"
   ]
  },
  {
   "cell_type": "code",
   "execution_count": 76,
   "metadata": {},
   "outputs": [
    {
     "data": {
      "text/plain": [
       "(360, 360, 360, 360, 360, 360)"
      ]
     },
     "execution_count": 76,
     "metadata": {},
     "output_type": "execute_result"
    }
   ],
   "source": [
    "len(lis_titulo), len(lis_precio), len(lis_cantidadVendidas_), len(lis_Valoracion), len(lis_envio), len(lis_precioAnterior)"
   ]
  },
  {
   "cell_type": "code",
   "execution_count": 77,
   "metadata": {},
   "outputs": [],
   "source": [
    "df = pd.DataFrame({\"Producto\":lis_titulo,\"Precio\":lis_precio,\"CantidadVendidas\":lis_cantidadVendidas_,\"Valoracion\":lis_Valoracion,\"Envio\":lis_envio,\"Precio Anterior\":lis_precioAnterior})"
   ]
  },
  {
   "cell_type": "code",
   "execution_count": 78,
   "metadata": {},
   "outputs": [],
   "source": [
    "df.to_csv(\"Alfombra_pc_mouse.csv\",index=False)"
   ]
  },
  {
   "cell_type": "code",
   "execution_count": 79,
   "metadata": {},
   "outputs": [],
   "source": [
    "driver.close()"
   ]
  }
 ],
 "metadata": {
  "kernelspec": {
   "display_name": "Python 3.9.12 ('base')",
   "language": "python",
   "name": "python3"
  },
  "language_info": {
   "codemirror_mode": {
    "name": "ipython",
    "version": 3
   },
   "file_extension": ".py",
   "mimetype": "text/x-python",
   "name": "python",
   "nbconvert_exporter": "python",
   "pygments_lexer": "ipython3",
   "version": "3.9.12"
  },
  "orig_nbformat": 4,
  "vscode": {
   "interpreter": {
    "hash": "c9f04e99f58ad3e8e527e86f3db95f6f41dccd7eee35f4fab2a97d655604e485"
   }
  }
 },
 "nbformat": 4,
 "nbformat_minor": 2
}
