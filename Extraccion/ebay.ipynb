{
 "cells": [
  {
   "cell_type": "code",
   "execution_count": 1,
   "metadata": {},
   "outputs": [],
   "source": [
    "from bs4 import BeautifulSoup\n",
    "from selenium import webdriver\n",
    "from selenium.common.exceptions import WebDriverException\n",
    "from webdriver_manager.chrome import ChromeDriverManager\n",
    "import pandas as pd\n",
    "from datetime import date\n",
    "import time"
   ]
  },
  {
   "cell_type": "code",
   "execution_count": 95,
   "metadata": {},
   "outputs": [],
   "source": [
    "import pandas as pd\n",
    "import numpy as np"
   ]
  },
  {
   "cell_type": "code",
   "execution_count": 3,
   "metadata": {},
   "outputs": [
    {
     "name": "stderr",
     "output_type": "stream",
     "text": [
      "[WDM] - Downloading: 100%|██████████| 6.68M/6.68M [00:01<00:00, 6.25MB/s]\n",
      "C:\\Users\\tacas\\AppData\\Local\\Temp\\ipykernel_16400\\3286899381.py:2: DeprecationWarning: executable_path has been deprecated, please pass in a Service object\n",
      "  driver = webdriver.Chrome(ChromeDriverManager().install())\n"
     ]
    }
   ],
   "source": [
    "#rutaDriver = '\"C:/Users/tacas/Documents/HENRY/WebDriver/chromedriver.exe\"'\n",
    "driver = webdriver.Chrome(ChromeDriverManager().install())"
   ]
  },
  {
   "cell_type": "code",
   "execution_count": 4,
   "metadata": {},
   "outputs": [],
   "source": [
    "home = 'https://www.ebay.com'\n",
    "search = \"iphone x\".replace(\" \",\"+\")"
   ]
  },
  {
   "cell_type": "code",
   "execution_count": 5,
   "metadata": {},
   "outputs": [],
   "source": [
    "driver.get(home+\"/sch/i.html?_from=R40&_trksid=p2380057.m570.l1313&_nkw=\"+search+\"&_sacat=0\")"
   ]
  },
  {
   "cell_type": "code",
   "execution_count": 6,
   "metadata": {},
   "outputs": [],
   "source": [
    "page = BeautifulSoup(driver.page_source,\"html.parser\")"
   ]
  },
  {
   "cell_type": "code",
   "execution_count": 80,
   "metadata": {},
   "outputs": [],
   "source": [
    "contenedor = page.find_all(\"div\",{\"class\":\"s-item__info clearfix\"})[2:]\n",
    "#Precio = page.find_all(\"div\",{\"class\":\"s-item__info clearfix\"}).contents[3].contens[0]"
   ]
  },
  {
   "cell_type": "code",
   "execution_count": 108,
   "metadata": {},
   "outputs": [],
   "source": [
    "list_titulo = []\n",
    "list_estado = []\n",
    "list_valoracion = []\n",
    "list_price = []\n",
    "list_tipoVendedor = []"
   ]
  },
  {
   "cell_type": "code",
   "execution_count": 109,
   "metadata": {},
   "outputs": [],
   "source": [
    "for i in range(0,6):\n",
    "    for elem in contenedor:\n",
    "        titulo = elem.find('a').find('span')\n",
    "        estado = elem.find('span',{\"class\":\"SECONDARY_INFO\"})\n",
    "        valoracion = elem.find('span',{\"class\":\"s-item__reviews-count\"})\n",
    "        price = elem.find('span',{\"class\":\"s-item__price\"})\n",
    "        tipoVendedor = elem.find('span',{'class':'s-item__etrs-text'})\n",
    "        if titulo:\n",
    "            list_titulo.append(titulo.text)\n",
    "            #print(titulo.text)\n",
    "        else:\n",
    "            list_titulo.append(\"Sin informacion\")\n",
    "        if estado:\n",
    "            list_estado.append(estado.text)\n",
    "            #print(estado.text)\n",
    "        else:\n",
    "            list_estado.append(\"Sin informacion\")\n",
    "        if valoracion:\n",
    "            list_valoracion.append(valoracion.text)\n",
    "            #print(valoracion.text)\n",
    "        else:\n",
    "            list_valoracion.append(\"Sin informacion\")\n",
    "        if price:\n",
    "            list_price.append(price.text)\n",
    "            #print(price.text)\n",
    "        else:\n",
    "            list_price.append(\"Sin informacion\")\n",
    "        if tipoVendedor:\n",
    "            list_tipoVendedor.append(tipoVendedor.text)\n",
    "            #print(tipoVendedor.text)\n",
    "        else:\n",
    "            list_tipoVendedor.append(\"Sin informacion\")\n",
    "    next_btn = driver.find_element(\"css selector\",\".pagination__next\")\n",
    "    next_btn.click()\n",
    "    time.sleep(2)\n",
    "    "
   ]
  },
  {
   "cell_type": "code",
   "execution_count": 110,
   "metadata": {},
   "outputs": [],
   "source": [
    "dic_df = {\"Titulo\":list_titulo,\"Estado\":list_estado,\"Valoracion\":list_valoracion,\"Precio\":list_price,\"Tipo_de_Vendedor\":list_tipoVendedor}"
   ]
  },
  {
   "cell_type": "code",
   "execution_count": 111,
   "metadata": {},
   "outputs": [
    {
     "data": {
      "text/plain": [
       "(402, 402, 402, 402, 402)"
      ]
     },
     "execution_count": 111,
     "metadata": {},
     "output_type": "execute_result"
    }
   ],
   "source": [
    "len(list_estado), len(list_price), len(list_tipoVendedor), len(list_titulo), len(list_valoracion)"
   ]
  },
  {
   "cell_type": "code",
   "execution_count": 112,
   "metadata": {},
   "outputs": [],
   "source": [
    "data = pd.DataFrame(dic_df)"
   ]
  },
  {
   "cell_type": "code",
   "execution_count": 113,
   "metadata": {},
   "outputs": [
    {
     "data": {
      "text/html": [
       "<div>\n",
       "<style scoped>\n",
       "    .dataframe tbody tr th:only-of-type {\n",
       "        vertical-align: middle;\n",
       "    }\n",
       "\n",
       "    .dataframe tbody tr th {\n",
       "        vertical-align: top;\n",
       "    }\n",
       "\n",
       "    .dataframe thead th {\n",
       "        text-align: right;\n",
       "    }\n",
       "</style>\n",
       "<table border=\"1\" class=\"dataframe\">\n",
       "  <thead>\n",
       "    <tr style=\"text-align: right;\">\n",
       "      <th></th>\n",
       "      <th>Titulo</th>\n",
       "      <th>Estado</th>\n",
       "      <th>Valoracion</th>\n",
       "      <th>Precio</th>\n",
       "      <th>Tipo_de_Vendedor</th>\n",
       "    </tr>\n",
       "  </thead>\n",
       "  <tbody>\n",
       "    <tr>\n",
       "      <th>0</th>\n",
       "      <td>Apple iPhone X (iPhone 10) 64GB 256GB All Colo...</td>\n",
       "      <td>Excelente (Restaurado)</td>\n",
       "      <td>8 valoraciones del artículo - Apple iPhone X (...</td>\n",
       "      <td>S/. 1 123.86 a S/. 1 258.73</td>\n",
       "      <td>Sin informacion</td>\n",
       "    </tr>\n",
       "    <tr>\n",
       "      <th>1</th>\n",
       "      <td>Anuncio nuevoIphone X 64GB Silver Unlocked</td>\n",
       "      <td>De segunda mano</td>\n",
       "      <td>262 valoraciones del artículo - Iphone X 64GB ...</td>\n",
       "      <td>S/. 397.95</td>\n",
       "      <td>Sin informacion</td>\n",
       "    </tr>\n",
       "    <tr>\n",
       "      <th>2</th>\n",
       "      <td>Apple iPhone X 256GB Space Gray Unlocked Good ...</td>\n",
       "      <td>Bueno (Restaurado)</td>\n",
       "      <td>299 valoraciones del artículo - Apple iPhone X...</td>\n",
       "      <td>S/. 1 032.68</td>\n",
       "      <td>Vendedor Excelente</td>\n",
       "    </tr>\n",
       "    <tr>\n",
       "      <th>3</th>\n",
       "      <td>Apple iPhone X 256GB Space Grey Unlocked Sim F...</td>\n",
       "      <td>De segunda mano</td>\n",
       "      <td>260 valoraciones del artículo - Apple iPhone X...</td>\n",
       "      <td>S/. 1 033.95</td>\n",
       "      <td>Sin informacion</td>\n",
       "    </tr>\n",
       "    <tr>\n",
       "      <th>4</th>\n",
       "      <td>Apple iphone x</td>\n",
       "      <td>Para repuestos solamente</td>\n",
       "      <td>Sin informacion</td>\n",
       "      <td>S/. 174.71</td>\n",
       "      <td>Sin informacion</td>\n",
       "    </tr>\n",
       "  </tbody>\n",
       "</table>\n",
       "</div>"
      ],
      "text/plain": [
       "                                              Titulo  \\\n",
       "0  Apple iPhone X (iPhone 10) 64GB 256GB All Colo...   \n",
       "1         Anuncio nuevoIphone X 64GB Silver Unlocked   \n",
       "2  Apple iPhone X 256GB Space Gray Unlocked Good ...   \n",
       "3  Apple iPhone X 256GB Space Grey Unlocked Sim F...   \n",
       "4                                     Apple iphone x   \n",
       "\n",
       "                     Estado  \\\n",
       "0    Excelente (Restaurado)   \n",
       "1           De segunda mano   \n",
       "2        Bueno (Restaurado)   \n",
       "3           De segunda mano   \n",
       "4  Para repuestos solamente   \n",
       "\n",
       "                                          Valoracion  \\\n",
       "0  8 valoraciones del artículo - Apple iPhone X (...   \n",
       "1  262 valoraciones del artículo - Iphone X 64GB ...   \n",
       "2  299 valoraciones del artículo - Apple iPhone X...   \n",
       "3  260 valoraciones del artículo - Apple iPhone X...   \n",
       "4                                    Sin informacion   \n",
       "\n",
       "                        Precio    Tipo_de_Vendedor  \n",
       "0  S/. 1 123.86 a S/. 1 258.73     Sin informacion  \n",
       "1                   S/. 397.95     Sin informacion  \n",
       "2                 S/. 1 032.68  Vendedor Excelente  \n",
       "3                 S/. 1 033.95     Sin informacion  \n",
       "4                   S/. 174.71     Sin informacion  "
      ]
     },
     "execution_count": 113,
     "metadata": {},
     "output_type": "execute_result"
    }
   ],
   "source": [
    "data.head()"
   ]
  },
  {
   "cell_type": "code",
   "execution_count": 114,
   "metadata": {},
   "outputs": [],
   "source": [
    "data.to_csv(\"Data_Ebay.csv\",index=False)"
   ]
  },
  {
   "cell_type": "code",
   "execution_count": 115,
   "metadata": {},
   "outputs": [],
   "source": [
    "driver.close()"
   ]
  }
 ],
 "metadata": {
  "kernelspec": {
   "display_name": "Python 3.9.12 ('base')",
   "language": "python",
   "name": "python3"
  },
  "language_info": {
   "codemirror_mode": {
    "name": "ipython",
    "version": 3
   },
   "file_extension": ".py",
   "mimetype": "text/x-python",
   "name": "python",
   "nbconvert_exporter": "python",
   "pygments_lexer": "ipython3",
   "version": "3.9.12"
  },
  "orig_nbformat": 4,
  "vscode": {
   "interpreter": {
    "hash": "246fa01eff4e91edb68645455a2581cc801c22cee0d605dba14be86cbc3319f0"
   }
  }
 },
 "nbformat": 4,
 "nbformat_minor": 2
}
